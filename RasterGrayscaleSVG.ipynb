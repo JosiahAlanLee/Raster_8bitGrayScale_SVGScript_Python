{
  "nbformat": 4,
  "nbformat_minor": 0,
  "metadata": {
    "colab": {
      "private_outputs": true,
      "provenance": [],
      "authorship_tag": "ABX9TyN9sTeEbTfcMkVYXcHKmQHX",
      "include_colab_link": true
    },
    "kernelspec": {
      "name": "python3",
      "display_name": "Python 3"
    },
    "language_info": {
      "name": "python"
    },
    "gpuClass": "standard"
  },
  "cells": [
    {
      "cell_type": "markdown",
      "metadata": {
        "id": "view-in-github",
        "colab_type": "text"
      },
      "source": [
        "<a href=\"https://colab.research.google.com/github/JosiahAlanLee/Raster_8bitGrayScale_SVGScript_Python/blob/main/RasterGrayscaleSVG.ipynb\" target=\"_parent\"><img src=\"https://colab.research.google.com/assets/colab-badge.svg\" alt=\"Open In Colab\"/></a>"
      ]
    },
    {
      "cell_type": "code",
      "source": [
        "# Open the color raster image and convert it to grayscale\n",
        "im = Image.open('/content/image.png')\n",
        "im = im.convert(\"L\")  # convert to 8-bit grayscale\n",
        "\n",
        "# Display the image\n",
        "im.show()"
      ],
      "metadata": {
        "id": "CD72fLSFRZHB"
      },
      "execution_count": null,
      "outputs": []
    },
    {
      "cell_type": "code",
      "execution_count": null,
      "metadata": {
        "id": "vDGbXIDRLuYw"
      },
      "outputs": [],
      "source": [
        "!pip install Pillow\n",
        "!pip install scikit-image\n",
        "!pip install svgwrite\n",
        "\n",
        "import numpy as np\n",
        "\n",
        "# Convert the image to a NumPy array\n",
        "im = np.asarray(im)\n",
        "\n",
        "# Threshold the image to create a binary image\n",
        "threshold = threshold_local(im, block_size=55, offset=20)\n",
        "im = im > threshold\n",
        "\n",
        "# Create an SVG drawing\n",
        "dwg = svgwrite.Drawing('image.svg')\n",
        "\n",
        "# Iterate over the pixels in the binary image and draw black or white squares\n",
        "for i in range(im.shape[0]):\n",
        "    for j in range(im.shape[1]):\n",
        "        if im[i, j]:\n",
        "            dwg.add(dwg.rect(insert=(j, i), size=(1, 1), fill='black'))\n",
        "        else:\n",
        "            dwg.add(dwg.rect(insert=(j, i), size=(1, 1), fill='white'))\n",
        "\n",
        "# Save the SVG image\n",
        "dwg.save()"
      ]
    },
    {
      "cell_type": "code",
      "source": [
        "# Convert the image to a NumPy array\n",
        "im = np.asarray(im)\n",
        "\n",
        "# Threshold the image to create a binary image\n",
        "threshold = threshold_otsu(im)\n",
        "im = im > threshold\n",
        "\n",
        "# Create an SVG drawing\n",
        "dwg = svgwrite.Drawing('image.svg')\n",
        "\n",
        "# Iterate over the pixels in the binary image and draw black or white lines\n",
        "for i in range(im.shape[0]):\n",
        "    for j in range(im.shape[1]):\n",
        "        if im[i, j]:\n",
        "            if (i + j) % 2 == 0:\n",
        "                dwg.add(dwg.line(start=(j, i), end=(j + 1, i), stroke='black'))\n",
        "            else:\n",
        "                dwg.add(dwg.line(start=(j, i), end=(j + 1, i), stroke='white'))\n",
        "        else:\n",
        "            if (i + j) % 2 == 0:\n",
        "                dwg.add(dwg.line(start=(j, i), end=(j + 1, i), stroke='white'))\n",
        "            else:\n",
        "                dwg.add(dwg.line(start=(j, i), end=(j + 1, i), stroke='black'))\n",
        "\n",
        "# Save the SVG image\n",
        "dwg.save()\n"
      ],
      "metadata": {
        "id": "qEPvMsjCVE0c"
      },
      "execution_count": null,
      "outputs": []
    },
    {
      "cell_type": "code",
      "source": [
        "# Convert the image to a NumPy array\n",
        "im = np.asarray(im)\n",
        "\n",
        "# Threshold the image to create a binary image\n",
        "threshold = threshold_otsu(im)\n",
        "im = im > threshold\n",
        "\n",
        "# Create an SVG drawing\n",
        "dwg = svgwrite.Drawing('image.svg')\n",
        "\n",
        "# Iterate over the pixels in the binary image and draw checkerboard pattern\n",
        "for i in range(im.shape[0]):\n",
        "    for j in range(im.shape[1]):\n",
        "        if (i + j) % 2 == 0:\n",
        "            if im[i, j]:\n",
        "                # Draw black square\n",
        "                dwg.add(dwg.rect(insert=(j, i), size=(1, 1), fill='black'))\n",
        "            else:\n",
        "                # Draw white square\n",
        "                dwg.add(dwg.rect(insert=(j, i), size=(1, 1), fill='white'))\n",
        "        else:\n",
        "            if im[i, j]:\n",
        "                # Draw cross-hatched square\n",
        "                dwg.add(dwg.rect(insert=(j, i), size=(1, 1), fill='black'))\n",
        "                dwg.add(dwg.line(start=(j, i), end=(j + 1, i), stroke='white'))\n",
        "                dwg.add(dwg.line(start=(j, i), end=(j, i + 1), stroke='white'))\n",
        "            else:\n",
        "                # Draw empty square\n",
        "                dwg.add(dwg.rect(insert=(j, i), size=(1, 1), fill='white'))\n",
        "\n",
        "# Save the SVG image\n",
        "dwg.save()\n"
      ],
      "metadata": {
        "id": "8Dfvu4wHXH5G"
      },
      "execution_count": null,
      "outputs": []
    },
    {
      "cell_type": "code",
      "source": [
        "from PIL import Image\n",
        "import numpy as np\n",
        "import svgwrite\n",
        "\n",
        "# Open the color raster image and convert it to grayscale\n",
        "im = Image.open('/content/image.png')\n",
        "im = im.convert(\"L\")  # convert to 8-bit grayscale\n",
        "\n",
        "# Convert the image to a NumPy array\n",
        "im = np.asarray(im)\n",
        "\n",
        "# Create an SVG drawing\n",
        "dwg = svgwrite.Drawing('/content/image2.svg')\n",
        "\n",
        "# Iterate over the pixels in the image and draw checkerboard pattern\n",
        "for i in range(im.shape[0]):\n",
        "    for j in range(im.shape[1]):\n",
        "        # Get the grayscale value of the pixel\n",
        "        val = im[i, j]\n",
        "        \n",
        "        # Determine the number of lines to draw based on the grayscale value\n",
        "        num_lines = int(val / 32)\n",
        "        \n",
        "        # Draw a checkerboard pattern using the appropriate number of lines\n",
        "        if (i + j) % 2 == 0:\n",
        "            if num_lines > 0:\n",
        "                # Draw black square\n",
        "                dwg.add(dwg.rect(insert=(j, i), size=(1, 1), fill='black'))\n",
        "                \n",
        "                # Draw lines to represent the grayscale value\n",
        "                for k in range(num_lines):\n",
        "                    dwg.add(dwg.line(start=(j, i + k * 0.125), end=(j + 1, i + k * 0.125), stroke='white'))\n"
      ],
      "metadata": {
        "id": "5fY_wpOmZvN-"
      },
      "execution_count": null,
      "outputs": []
    }
  ]
}
